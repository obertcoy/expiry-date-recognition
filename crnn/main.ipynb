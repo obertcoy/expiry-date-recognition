{
 "cells": [
  {
   "cell_type": "code",
   "execution_count": 13,
   "metadata": {},
   "outputs": [],
   "source": [
    "import numpy as np\n",
    "import tensorflow as tf\n",
    "import pandas as pd\n",
    "import json\n",
    "import matplotlib.pyplot as plt\n",
    "import os\n",
    "import cv2 as cv\n",
    "from tqdm import tqdm\n",
    "import string\n"
   ]
  },
  {
   "cell_type": "code",
   "execution_count": 2,
   "metadata": {},
   "outputs": [],
   "source": [
    "PATH = '../dataset/Date-Synth/images/'"
   ]
  },
  {
   "cell_type": "code",
   "execution_count": 3,
   "metadata": {},
   "outputs": [],
   "source": [
    "ANNOTATIONS_PATH = '../dataset/Date-Synth/annotations.json'\n",
    "\n",
    "with open(ANNOTATIONS_PATH, 'r') as file:\n",
    "    data = json.load(file)\n",
    "\n",
    "def get_y_from_json(file: str) -> str:\n",
    "    return \" \".join(annotation['transcription'] for annotation in data[file]['ann'])"
   ]
  },
  {
   "cell_type": "code",
   "execution_count": 4,
   "metadata": {},
   "outputs": [
    {
     "data": {
      "text/plain": [
       "'10 10 2016'"
      ]
     },
     "execution_count": 4,
     "metadata": {},
     "output_type": "execute_result"
    }
   ],
   "source": [
    "get_y_from_json('00001.jpg')"
   ]
  },
  {
   "cell_type": "code",
   "execution_count": 9,
   "metadata": {},
   "outputs": [
    {
     "name": "stderr",
     "output_type": "stream",
     "text": [
      "Loading images: 100%|██████████| 20000/20000 [00:14<00:00, 1420.86it/s]\n"
     ]
    },
    {
     "data": {
      "image/png": "[encoded data removed]",
      "text/plain": [
       "<Figure size 640x480 with 1 Axes>"
      ]
     },
     "metadata": {},
     "output_type": "display_data"
    }
   ],
   "source": [
    "# Load dataset\n",
    "\n",
    "X = []\n",
    "Y = []\n",
    "\n",
    "target_size = (32, 100)\n",
    "\n",
    "n = 20000\n",
    "\n",
    "for idx, file in enumerate(tqdm(os.listdir(PATH)[:n], total=n, desc=\"Loading images\")):\n",
    "\n",
    "    file_path = os.path.join(PATH, file)\n",
    "\n",
    "    image = tf.keras.preprocessing.image.load_img(file_path, color_mode='grayscale', target_size=target_size)\n",
    "    image = tf.keras.preprocessing.image.img_to_array(image)\n",
    "\n",
    "    label = get_y_from_json(file)\n",
    "\n",
    "    if label != \" \":\n",
    "        X.append(image)\n",
    "        Y.append(label)\n",
    "\n",
    "X = np.array(X)\n",
    "Y = np.array(Y)\n",
    "    \n",
    "plt.imshow(X[100], cmap='gray')\n",
    "plt.title(Y[100])\n",
    "plt.axis('off')\n",
    "plt.show()"
   ]
  },
  {
   "cell_type": "code",
   "execution_count": 12,
   "metadata": {},
   "outputs": [
    {
     "name": "stdout",
     "output_type": "stream",
     "text": [
      "X shape: (20000, 32, 100, 1) | Y shape: (20000,)\n",
      "X_normalized[0]: [[[0.98039216]\n",
      "  [0.98039216]\n",
      "  [0.98039216]\n",
      "  ...\n",
      "  [0.98039216]\n",
      "  [0.98039216]\n",
      "  [0.98039216]]\n",
      "\n",
      " [[0.98039216]\n",
      "  [0.98039216]\n",
      "  [0.98039216]\n",
      "  ...\n",
      "  [0.98039216]\n",
      "  [0.98039216]\n",
      "  [0.98039216]]\n",
      "\n",
      " [[0.98039216]\n",
      "  [0.98039216]\n",
      "  [0.98039216]\n",
      "  ...\n",
      "  [0.98039216]\n",
      "  [0.98039216]\n",
      "  [0.98039216]]\n",
      "\n",
      " ...\n",
      "\n",
      " [[0.98039216]\n",
      "  [0.98039216]\n",
      "  [0.98039216]\n",
      "  ...\n",
      "  [0.98039216]\n",
      "  [0.98039216]\n",
      "  [0.98039216]]\n",
      "\n",
      " [[0.98039216]\n",
      "  [0.98039216]\n",
      "  [0.98039216]\n",
      "  ...\n",
      "  [0.98039216]\n",
      "  [0.98039216]\n",
      "  [0.98039216]]\n",
      "\n",
      " [[0.98039216]\n",
      "  [0.98039216]\n",
      "  [0.98039216]\n",
      "  ...\n",
      "  [0.98039216]\n",
      "  [0.98039216]\n",
      "  [0.98039216]]] | Y[0]: 21 09 2020\n"
     ]
    }
   ],
   "source": [
    "# Normalized\n",
    "\n",
    "X_normalized = X / 255.0\n",
    "\n",
    "print(f'X shape: {X_normalized.shape} | Y shape: {Y.shape}')\n",
    "print(f'X_normalized[0]: {X_normalized[0]} | Y[0]: {Y[0]}')"
   ]
  },
  {
   "cell_type": "code",
   "execution_count": 42,
   "metadata": {},
   "outputs": [
    {
     "name": "stdout",
     "output_type": "stream",
     "text": [
      "21 09 2020\n"
     ]
    }
   ],
   "source": [
    "# Encode\n",
    "\n",
    "char_list = string.ascii_letters + string.digits + ' ' # Digits because only for expiration date\n",
    "\n",
    "index_to_char = {idx: character for idx, character in enumerate(char_list)}\n",
    "\n",
    "def encode_label(label: str) -> list:\n",
    "    \n",
    "    encoded = []\n",
    "\n",
    "    for char in label:\n",
    "        try:\n",
    "            encoded.append(char_list.index(char))\n",
    "        except:\n",
    "            print(f'Not found in char_list: {char}')\n",
    "\n",
    "    return encoded\n",
    "\n",
    "Y_encoded = [encode_label(label) for label in Y]\n",
    "\n",
    "print(''.join([index_to_char[encode_idx] for encode_idx in Y_encoded[0]]))"
   ]
  },
  {
   "cell_type": "code",
   "execution_count": 46,
   "metadata": {},
   "outputs": [
    {
     "data": {
      "text/plain": [
       "11"
      ]
     },
     "execution_count": 46,
     "metadata": {},
     "output_type": "execute_result"
    }
   ],
   "source": [
    "# Max sequence len\n",
    "\n",
    "max_len = max(len(seq) for seq in Y_encoded)\n",
    "\n",
    "max_len"
   ]
  },
  {
   "cell_type": "code",
   "execution_count": 47,
   "metadata": {},
   "outputs": [],
   "source": [
    "# Pad sequence\n",
    "\n",
    "Y_padded = tf.keras.preprocessing.sequence.pad_sequences(Y_encoded, maxlen= max_len, padding='post', value=len(char_list))"
   ]
  },
  {
   "cell_type": "code",
   "execution_count": 21,
   "metadata": {},
   "outputs": [
    {
     "data": {
      "text/plain": [
       "(32, 100, 1)"
      ]
     },
     "execution_count": 21,
     "metadata": {},
     "output_type": "execute_result"
    }
   ],
   "source": [
    "# Define input shape\n",
    "\n",
    "input_shape = X[0].shape\n",
    "\n",
    "input_shape"
   ]
  },
  {
   "cell_type": "code",
   "execution_count": 27,
   "metadata": {},
   "outputs": [],
   "source": [
    "class MapToSequenceLayer(tf.keras.layers.Layer):\n",
    "\n",
    "    def call(self, inputs):\n",
    "\n",
    "        # Input = (batch_size, height, width, channels) => Feature Map\n",
    "\n",
    "        batch_size = tf.shape(inputs)[0]\n",
    "        height = tf.shape(inputs)[1]\n",
    "        width = tf.shape(inputs)[2]\n",
    "        channels = tf.shape(inputs)[3]\n",
    "\n",
    "\n",
    "        # Output = (batch_size, width, height * channels) => sequence per columns\n",
    "\n",
    "        outputs = tf.reshape(inputs, (batch_size, width, height * channels) )\n",
    "\n",
    "        return outputs"
   ]
  },
  {
   "cell_type": "code",
   "execution_count": 48,
   "metadata": {},
   "outputs": [
    {
     "name": "stdout",
     "output_type": "stream",
     "text": [
      "Model: \"sequential_9\"\n",
      "_________________________________________________________________\n",
      " Layer (type)                Output Shape              Param #   \n",
      "=================================================================\n",
      " conv2d_63 (Conv2D)          (None, 32, 100, 64)       640       \n",
      "                                                                 \n",
      " max_pooling2d_36 (MaxPooli  (None, 16, 50, 64)        0         \n",
      " ng2D)                                                           \n",
      "                                                                 \n",
      " conv2d_64 (Conv2D)          (None, 16, 50, 128)       73856     \n",
      "                                                                 \n",
      " max_pooling2d_37 (MaxPooli  (None, 8, 25, 128)        0         \n",
      " ng2D)                                                           \n",
      "                                                                 \n",
      " conv2d_65 (Conv2D)          (None, 8, 25, 256)        295168    \n",
      "                                                                 \n",
      " conv2d_66 (Conv2D)          (None, 8, 25, 256)        590080    \n",
      "                                                                 \n",
      " max_pooling2d_38 (MaxPooli  (None, 4, 12, 256)        0         \n",
      " ng2D)                                                           \n",
      "                                                                 \n",
      " conv2d_67 (Conv2D)          (None, 4, 12, 512)        1180160   \n",
      "                                                                 \n",
      " batch_normalization_18 (Ba  (None, 4, 12, 512)        2048      \n",
      " tchNormalization)                                               \n",
      "                                                                 \n",
      " conv2d_68 (Conv2D)          (None, 4, 12, 512)        2359808   \n",
      "                                                                 \n",
      " batch_normalization_19 (Ba  (None, 4, 12, 512)        2048      \n",
      " tchNormalization)                                               \n",
      "                                                                 \n",
      " max_pooling2d_39 (MaxPooli  (None, 2, 6, 512)         0         \n",
      " ng2D)                                                           \n",
      "                                                                 \n",
      " conv2d_69 (Conv2D)          (None, 1, 5, 512)         1049088   \n",
      "                                                                 \n",
      " map_to_sequence_layer_6 (M  (None, 5, 512)            0         \n",
      " apToSequenceLayer)                                              \n",
      "                                                                 \n",
      " bidirectional_6 (Bidirecti  (None, 5, 512)            1574912   \n",
      " onal)                                                           \n",
      "                                                                 \n",
      " bidirectional_7 (Bidirecti  (None, 5, 512)            1574912   \n",
      " onal)                                                           \n",
      "                                                                 \n",
      " dense_3 (Dense)             (None, 5, 63)             32319     \n",
      "                                                                 \n",
      "=================================================================\n",
      "Total params: 8735039 (33.32 MB)\n",
      "Trainable params: 8732991 (33.31 MB)\n",
      "Non-trainable params: 2048 (8.00 KB)\n",
      "_________________________________________________________________\n",
      "None\n"
     ]
    }
   ],
   "source": [
    "# Model\n",
    "\n",
    "model = tf.keras.Sequential([\n",
    "    tf.keras.layers.Input(shape=input_shape),\n",
    "    tf.keras.layers.Conv2D(64, kernel_size=(3, 3), padding='same', activation='relu'),\n",
    "    tf.keras.layers.MaxPooling2D(pool_size=(2, 2), strides=(2, 2)),\n",
    "    tf.keras.layers.Conv2D(128, kernel_size=(3, 3), padding='same', activation='relu'),\n",
    "    tf.keras.layers.MaxPooling2D(pool_size=(2, 2), strides=(2, 2)),\n",
    "    tf.keras.layers.Conv2D(256, kernel_size=(3, 3), padding='same', activation='relu'),\n",
    "    tf.keras.layers.Conv2D(256, kernel_size=(3, 3), padding='same', activation='relu'),\n",
    "    tf.keras.layers.MaxPooling2D(pool_size=(1, 2), strides=(2, 2)),\n",
    "    tf.keras.layers.Conv2D(512, kernel_size=(3, 3), padding='same', activation='relu'),\n",
    "    tf.keras.layers.BatchNormalization(),\n",
    "    tf.keras.layers.Conv2D(512, kernel_size=(3, 3), padding='same', activation='relu'),\n",
    "    tf.keras.layers.BatchNormalization(),\n",
    "    tf.keras.layers.MaxPooling2D(pool_size=(1, 2), strides=(2, 2)),\n",
    "    tf.keras.layers.Conv2D(512, kernel_size=(2, 2), padding='valid', activation='relu'),\n",
    "    MapToSequenceLayer(),\n",
    "    tf.keras.layers.Bidirectional(tf.keras.layers.LSTM(256, return_sequences=True, activation='relu')),\n",
    "    tf.keras.layers.Bidirectional(tf.keras.layers.LSTM(256, return_sequences=True, activation='relu')),\n",
    "    tf.keras.layers.Dense(len(char_list), activation='softmax')\n",
    "])\n",
    "\n",
    "print(model.summary())"
   ]
  },
  {
   "cell_type": "code",
   "execution_count": null,
   "metadata": {},
   "outputs": [],
   "source": []
  }
 ],
 "metadata": {
  "kernelspec": {
   "display_name": "Python 3",
   "language": "python",
   "name": "python3"
  },
  "language_info": {
   "codemirror_mode": {
    "name": "ipython",
    "version": 3
   },
   "file_extension": ".py",
   "mimetype": "text/x-python",
   "name": "python",
   "nbconvert_exporter": "python",
   "pygments_lexer": "ipython3",
   "version": "3.8.3"
  }
 },
 "nbformat": 4,
 "nbformat_minor": 2
}
